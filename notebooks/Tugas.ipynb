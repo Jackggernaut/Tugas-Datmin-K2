{
  "cells": [
    {
      "cell_type": "code",
      "execution_count": 1,
      "id": "031b7bc6-466e-4add-926b-b8c208f850f7",
      "metadata": {
        "id": "031b7bc6-466e-4add-926b-b8c208f850f7",
        "outputId": "954bfdec-debd-40e6-b428-f24f5029e524",
        "colab": {
          "base_uri": "https://localhost:8080/"
        }
      },
      "outputs": [
        {
          "output_type": "stream",
          "name": "stdout",
          "text": [
            "Mounted at /content/drive\n"
          ]
        }
      ],
      "source": [
        "from google.colab import drive\n",
        "drive.mount('/content/drive')"
      ]
    },
    {
      "cell_type": "code",
      "source": [],
      "metadata": {
        "id": "lPPafHvtuVCf"
      },
      "id": "lPPafHvtuVCf",
      "execution_count": null,
      "outputs": []
    }
  ],
  "metadata": {
    "kernelspec": {
      "display_name": "Python 3 (ipykernel)",
      "language": "python",
      "name": "python3"
    },
    "language_info": {
      "codemirror_mode": {
        "name": "ipython",
        "version": 3
      },
      "file_extension": ".py",
      "mimetype": "text/x-python",
      "name": "python",
      "nbconvert_exporter": "python",
      "pygments_lexer": "ipython3",
      "version": "3.11.7"
    },
    "colab": {
      "provenance": []
    }
  },
  "nbformat": 4,
  "nbformat_minor": 5
}